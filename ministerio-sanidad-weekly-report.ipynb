{
 "cells": [
  {
   "cell_type": "markdown",
   "metadata": {},
   "source": [
    "# COVID-19 - Ministerio de Sanidad"
   ]
  },
  {
   "cell_type": "code",
   "execution_count": 1,
   "metadata": {},
   "outputs": [],
   "source": [
    "import requests\n",
    "import pandas as pd\n",
    "import ezodf\n",
    "import datetime as dt\n",
    "import glob\n",
    "import matplotlib.pyplot as plt\n",
    "import time\n",
    "from pprint import pprint\n",
    "from pandas_ods_reader import read_ods\n",
    "\n",
    "import matplotlib.dates as mdates \n",
    "import matplotlib.ticker as tkr"
   ]
  },
  {
   "cell_type": "markdown",
   "metadata": {
    "collapsed": true
   },
   "source": [
    "**Fuente: Ministerio de Sanidad del Gobierno de España** \n",
    "<br> https://www.sanidad.gob.es/home.htm\n",
    "<br> https://www.mscbs.gob.es/profesionales/saludPublica/ccayes/alertasActual/nCov/vacunaCovid19.htm"
   ]
  },
  {
   "cell_type": "markdown",
   "metadata": {},
   "source": [
    "**MUST INSTALL ezodf** - \n",
    "https://pypi.org/project/ezodf/#description\n",
    "    \n",
    "\n",
    "Use \"pip install ezodf\" (conda install ezodf won't work)"
   ]
  },
  {
   "cell_type": "markdown",
   "metadata": {},
   "source": [
    "**MUST INSTALL pandas-ods-reader** - https://pypi.org/project/pandas-ods-reader/\n",
    "\n",
    "Use \"pip install pandas-ods-reader --user\" (conda install ezodf won't work)"
   ]
  },
  {
   "cell_type": "code",
   "execution_count": null,
   "metadata": {},
   "outputs": [],
   "source": []
  },
  {
   "cell_type": "markdown",
   "metadata": {},
   "source": [
    "### Obtaining the Data"
   ]
  },
  {
   "cell_type": "code",
   "execution_count": 2,
   "metadata": {},
   "outputs": [
    {
     "name": "stdout",
     "output_type": "stream",
     "text": [
      "20220207\n"
     ]
    }
   ],
   "source": [
    "# Lista de fechas hasta hoy\n",
    "curr_date = pd.to_datetime('today').date()\n",
    "\n",
    "fechitas = pd.bdate_range(start='1/1/2021', end=curr_date).date\n",
    "lista_fechas = list(fechitas)\n",
    "\n",
    "print(str(lista_fechas[-1]).replace(\"-\", \"\"))"
   ]
  },
  {
   "cell_type": "code",
   "execution_count": null,
   "metadata": {},
   "outputs": [],
   "source": []
  },
  {
   "cell_type": "code",
   "execution_count": 3,
   "metadata": {
    "scrolled": true
   },
   "outputs": [
    {
     "data": {
      "text/plain": [
       "[datetime.date(2021, 1, 4),\n",
       " datetime.date(2021, 1, 7),\n",
       " datetime.date(2021, 1, 8),\n",
       " datetime.date(2021, 1, 11),\n",
       " datetime.date(2021, 1, 12),\n",
       " datetime.date(2021, 1, 13),\n",
       " datetime.date(2021, 1, 14),\n",
       " datetime.date(2021, 1, 15),\n",
       " datetime.date(2021, 1, 18),\n",
       " datetime.date(2021, 1, 19),\n",
       " datetime.date(2021, 1, 20),\n",
       " datetime.date(2021, 1, 21),\n",
       " datetime.date(2021, 1, 22),\n",
       " datetime.date(2021, 1, 25),\n",
       " datetime.date(2021, 1, 26),\n",
       " datetime.date(2021, 1, 27),\n",
       " datetime.date(2021, 1, 28),\n",
       " datetime.date(2021, 1, 29),\n",
       " datetime.date(2021, 2, 1),\n",
       " datetime.date(2021, 2, 2),\n",
       " datetime.date(2021, 2, 3),\n",
       " datetime.date(2021, 2, 4),\n",
       " datetime.date(2021, 2, 5),\n",
       " datetime.date(2021, 2, 8),\n",
       " datetime.date(2021, 2, 9),\n",
       " datetime.date(2021, 2, 10),\n",
       " datetime.date(2021, 2, 11),\n",
       " datetime.date(2021, 2, 12),\n",
       " datetime.date(2021, 2, 15),\n",
       " datetime.date(2021, 2, 16),\n",
       " datetime.date(2021, 2, 17),\n",
       " datetime.date(2021, 2, 18),\n",
       " datetime.date(2021, 2, 19),\n",
       " datetime.date(2021, 2, 22),\n",
       " datetime.date(2021, 2, 23),\n",
       " datetime.date(2021, 2, 24),\n",
       " datetime.date(2021, 2, 25),\n",
       " datetime.date(2021, 2, 26),\n",
       " datetime.date(2021, 3, 1),\n",
       " datetime.date(2021, 3, 2),\n",
       " datetime.date(2021, 3, 3),\n",
       " datetime.date(2021, 3, 4),\n",
       " datetime.date(2021, 3, 5),\n",
       " datetime.date(2021, 3, 8),\n",
       " datetime.date(2021, 3, 9),\n",
       " datetime.date(2021, 3, 10),\n",
       " datetime.date(2021, 3, 11),\n",
       " datetime.date(2021, 3, 12),\n",
       " datetime.date(2021, 3, 15),\n",
       " datetime.date(2021, 3, 16),\n",
       " datetime.date(2021, 3, 17),\n",
       " datetime.date(2021, 3, 18),\n",
       " datetime.date(2021, 3, 22),\n",
       " datetime.date(2021, 3, 23),\n",
       " datetime.date(2021, 3, 24),\n",
       " datetime.date(2021, 3, 25),\n",
       " datetime.date(2021, 3, 26),\n",
       " datetime.date(2021, 3, 29),\n",
       " datetime.date(2021, 3, 30),\n",
       " datetime.date(2021, 3, 31),\n",
       " datetime.date(2021, 4, 1),\n",
       " datetime.date(2021, 4, 5),\n",
       " datetime.date(2021, 4, 6),\n",
       " datetime.date(2021, 4, 7),\n",
       " datetime.date(2021, 4, 8),\n",
       " datetime.date(2021, 4, 9),\n",
       " datetime.date(2021, 4, 12),\n",
       " datetime.date(2021, 4, 13),\n",
       " datetime.date(2021, 4, 14),\n",
       " datetime.date(2021, 4, 15),\n",
       " datetime.date(2021, 4, 16),\n",
       " datetime.date(2021, 4, 19),\n",
       " datetime.date(2021, 4, 20),\n",
       " datetime.date(2021, 4, 21),\n",
       " datetime.date(2021, 4, 22),\n",
       " datetime.date(2021, 4, 23),\n",
       " datetime.date(2021, 4, 26),\n",
       " datetime.date(2021, 4, 27),\n",
       " datetime.date(2021, 4, 28),\n",
       " datetime.date(2021, 4, 29),\n",
       " datetime.date(2021, 4, 30),\n",
       " datetime.date(2021, 5, 3),\n",
       " datetime.date(2021, 5, 4),\n",
       " datetime.date(2021, 5, 5),\n",
       " datetime.date(2021, 5, 6),\n",
       " datetime.date(2021, 5, 7),\n",
       " datetime.date(2021, 5, 10),\n",
       " datetime.date(2021, 5, 11),\n",
       " datetime.date(2021, 5, 12),\n",
       " datetime.date(2021, 5, 13),\n",
       " datetime.date(2021, 5, 14),\n",
       " datetime.date(2021, 5, 17),\n",
       " datetime.date(2021, 5, 18),\n",
       " datetime.date(2021, 5, 19),\n",
       " datetime.date(2021, 5, 20),\n",
       " datetime.date(2021, 5, 21),\n",
       " datetime.date(2021, 5, 24),\n",
       " datetime.date(2021, 5, 25),\n",
       " datetime.date(2021, 5, 26),\n",
       " datetime.date(2021, 5, 27),\n",
       " datetime.date(2021, 5, 28),\n",
       " datetime.date(2021, 5, 31),\n",
       " datetime.date(2021, 6, 1),\n",
       " datetime.date(2021, 6, 2),\n",
       " datetime.date(2021, 6, 3),\n",
       " datetime.date(2021, 6, 4),\n",
       " datetime.date(2021, 6, 7),\n",
       " datetime.date(2021, 6, 8),\n",
       " datetime.date(2021, 6, 9),\n",
       " datetime.date(2021, 6, 10),\n",
       " datetime.date(2021, 6, 11),\n",
       " datetime.date(2021, 6, 14),\n",
       " datetime.date(2021, 6, 15),\n",
       " datetime.date(2021, 6, 16),\n",
       " datetime.date(2021, 6, 17),\n",
       " datetime.date(2021, 6, 18),\n",
       " datetime.date(2021, 6, 21),\n",
       " datetime.date(2021, 6, 22),\n",
       " datetime.date(2021, 6, 23),\n",
       " datetime.date(2021, 6, 24),\n",
       " datetime.date(2021, 6, 25),\n",
       " datetime.date(2021, 6, 28),\n",
       " datetime.date(2021, 6, 29),\n",
       " datetime.date(2021, 6, 30),\n",
       " datetime.date(2021, 7, 1),\n",
       " datetime.date(2021, 7, 2),\n",
       " datetime.date(2021, 7, 5),\n",
       " datetime.date(2021, 7, 6),\n",
       " datetime.date(2021, 7, 7),\n",
       " datetime.date(2021, 7, 8),\n",
       " datetime.date(2021, 7, 9),\n",
       " datetime.date(2021, 7, 12),\n",
       " datetime.date(2021, 7, 13),\n",
       " datetime.date(2021, 7, 14),\n",
       " datetime.date(2021, 7, 15),\n",
       " datetime.date(2021, 7, 16),\n",
       " datetime.date(2021, 7, 19),\n",
       " datetime.date(2021, 7, 20),\n",
       " datetime.date(2021, 7, 21),\n",
       " datetime.date(2021, 7, 22),\n",
       " datetime.date(2021, 7, 23),\n",
       " datetime.date(2021, 7, 26),\n",
       " datetime.date(2021, 7, 27),\n",
       " datetime.date(2021, 7, 28),\n",
       " datetime.date(2021, 7, 29),\n",
       " datetime.date(2021, 7, 30),\n",
       " datetime.date(2021, 8, 2),\n",
       " datetime.date(2021, 8, 3),\n",
       " datetime.date(2021, 8, 4),\n",
       " datetime.date(2021, 8, 5),\n",
       " datetime.date(2021, 8, 6),\n",
       " datetime.date(2021, 8, 9),\n",
       " datetime.date(2021, 8, 10),\n",
       " datetime.date(2021, 8, 11),\n",
       " datetime.date(2021, 8, 12),\n",
       " datetime.date(2021, 8, 13),\n",
       " datetime.date(2021, 8, 16),\n",
       " datetime.date(2021, 8, 17),\n",
       " datetime.date(2021, 8, 18),\n",
       " datetime.date(2021, 8, 19),\n",
       " datetime.date(2021, 8, 20),\n",
       " datetime.date(2021, 8, 23),\n",
       " datetime.date(2021, 8, 24),\n",
       " datetime.date(2021, 8, 25),\n",
       " datetime.date(2021, 8, 26),\n",
       " datetime.date(2021, 8, 27),\n",
       " datetime.date(2021, 8, 30),\n",
       " datetime.date(2021, 8, 31),\n",
       " datetime.date(2021, 9, 1),\n",
       " datetime.date(2021, 9, 2),\n",
       " datetime.date(2021, 9, 3),\n",
       " datetime.date(2021, 9, 6),\n",
       " datetime.date(2021, 9, 7),\n",
       " datetime.date(2021, 9, 8),\n",
       " datetime.date(2021, 9, 9),\n",
       " datetime.date(2021, 9, 10),\n",
       " datetime.date(2021, 9, 13),\n",
       " datetime.date(2021, 9, 14),\n",
       " datetime.date(2021, 9, 15),\n",
       " datetime.date(2021, 9, 16),\n",
       " datetime.date(2021, 9, 17),\n",
       " datetime.date(2021, 9, 20),\n",
       " datetime.date(2021, 9, 21),\n",
       " datetime.date(2021, 9, 22),\n",
       " datetime.date(2021, 9, 23),\n",
       " datetime.date(2021, 9, 24),\n",
       " datetime.date(2021, 9, 27),\n",
       " datetime.date(2021, 9, 28),\n",
       " datetime.date(2021, 9, 29),\n",
       " datetime.date(2021, 9, 30),\n",
       " datetime.date(2021, 10, 1),\n",
       " datetime.date(2021, 10, 4),\n",
       " datetime.date(2021, 10, 5),\n",
       " datetime.date(2021, 10, 6),\n",
       " datetime.date(2021, 10, 7),\n",
       " datetime.date(2021, 10, 8),\n",
       " datetime.date(2021, 10, 11),\n",
       " datetime.date(2021, 10, 12),\n",
       " datetime.date(2021, 10, 13),\n",
       " datetime.date(2021, 10, 14),\n",
       " datetime.date(2021, 10, 15),\n",
       " datetime.date(2021, 10, 18),\n",
       " datetime.date(2021, 10, 19),\n",
       " datetime.date(2021, 10, 20),\n",
       " datetime.date(2021, 10, 21),\n",
       " datetime.date(2021, 10, 22),\n",
       " datetime.date(2021, 10, 25),\n",
       " datetime.date(2021, 10, 26),\n",
       " datetime.date(2021, 10, 27),\n",
       " datetime.date(2021, 10, 28),\n",
       " datetime.date(2021, 10, 29),\n",
       " datetime.date(2021, 11, 1),\n",
       " datetime.date(2021, 11, 2),\n",
       " datetime.date(2021, 11, 3),\n",
       " datetime.date(2021, 11, 4),\n",
       " datetime.date(2021, 11, 5),\n",
       " datetime.date(2021, 11, 8),\n",
       " datetime.date(2021, 11, 9),\n",
       " datetime.date(2021, 11, 10),\n",
       " datetime.date(2021, 11, 11),\n",
       " datetime.date(2021, 11, 12),\n",
       " datetime.date(2021, 11, 15),\n",
       " datetime.date(2021, 11, 16),\n",
       " datetime.date(2021, 11, 17),\n",
       " datetime.date(2021, 11, 18),\n",
       " datetime.date(2021, 11, 19),\n",
       " datetime.date(2021, 11, 22),\n",
       " datetime.date(2021, 11, 23),\n",
       " datetime.date(2021, 11, 24),\n",
       " datetime.date(2021, 11, 25),\n",
       " datetime.date(2021, 11, 26),\n",
       " datetime.date(2021, 11, 29),\n",
       " datetime.date(2021, 11, 30),\n",
       " datetime.date(2021, 12, 1),\n",
       " datetime.date(2021, 12, 2),\n",
       " datetime.date(2021, 12, 3),\n",
       " datetime.date(2021, 12, 6),\n",
       " datetime.date(2021, 12, 7),\n",
       " datetime.date(2021, 12, 8),\n",
       " datetime.date(2021, 12, 9),\n",
       " datetime.date(2021, 12, 10),\n",
       " datetime.date(2021, 12, 13),\n",
       " datetime.date(2021, 12, 14),\n",
       " datetime.date(2021, 12, 15),\n",
       " datetime.date(2021, 12, 16),\n",
       " datetime.date(2021, 12, 17),\n",
       " datetime.date(2021, 12, 20),\n",
       " datetime.date(2021, 12, 21),\n",
       " datetime.date(2021, 12, 22),\n",
       " datetime.date(2021, 12, 23),\n",
       " datetime.date(2021, 12, 24),\n",
       " datetime.date(2021, 12, 27),\n",
       " datetime.date(2021, 12, 28),\n",
       " datetime.date(2021, 12, 29),\n",
       " datetime.date(2021, 12, 30),\n",
       " datetime.date(2021, 12, 31),\n",
       " datetime.date(2022, 1, 3),\n",
       " datetime.date(2022, 1, 4),\n",
       " datetime.date(2022, 1, 5),\n",
       " datetime.date(2022, 1, 6),\n",
       " datetime.date(2022, 1, 7),\n",
       " datetime.date(2022, 1, 10),\n",
       " datetime.date(2022, 1, 11),\n",
       " datetime.date(2022, 1, 12),\n",
       " datetime.date(2022, 1, 13),\n",
       " datetime.date(2022, 1, 14),\n",
       " datetime.date(2022, 1, 17),\n",
       " datetime.date(2022, 1, 18),\n",
       " datetime.date(2022, 1, 19),\n",
       " datetime.date(2022, 1, 20),\n",
       " datetime.date(2022, 1, 21),\n",
       " datetime.date(2022, 1, 24),\n",
       " datetime.date(2022, 1, 25),\n",
       " datetime.date(2022, 1, 26),\n",
       " datetime.date(2022, 1, 27),\n",
       " datetime.date(2022, 1, 28),\n",
       " datetime.date(2022, 1, 31),\n",
       " datetime.date(2022, 2, 1),\n",
       " datetime.date(2022, 2, 2),\n",
       " datetime.date(2022, 2, 3),\n",
       " datetime.date(2022, 2, 4),\n",
       " datetime.date(2022, 2, 7)]"
      ]
     },
     "execution_count": 3,
     "metadata": {},
     "output_type": "execute_result"
    }
   ],
   "source": [
    "# Fechas sin datos\n",
    "# 20210101\n",
    "# 20210105\n",
    "# 20210106\n",
    "# 20210319\n",
    "# 20210402\n",
    "\n",
    "lista_fechas.remove(dt.date(2021,1,1))\n",
    "lista_fechas.remove(dt.date(2021,1,5))\n",
    "lista_fechas.remove(dt.date(2021,1,6))\n",
    "lista_fechas.remove(dt.date(2021,3,19))\n",
    "lista_fechas.remove(dt.date(2021,4,2))\n",
    "#lista_fechas.remove(dt.date(2021,5,28))\n",
    "\n",
    "#lista_fechas.append(dt.date(2021,4,3))\n",
    "lista_fechas[:] = sorted(lista_fechas)\n",
    "\n",
    "lista_fechas = lista_fechas[:]\n",
    "lista_fechas"
   ]
  },
  {
   "cell_type": "code",
   "execution_count": 4,
   "metadata": {},
   "outputs": [],
   "source": [
    "def update_data():\n",
    "    i = 0\n",
    "    while (i < len(lista_fechas)):\n",
    "        fecha = str(lista_fechas[i]).replace(\"-\", \"\")\n",
    "        url = \"https://www.mscbs.gob.es/profesionales/saludPublica/ccayes/alertasActual/nCov/documentos/Informe_Comunicacion_\" + fecha + \".ods\"\n",
    "        resp = requests.get(url)\n",
    "        with open(fecha + \".ods\", \"wb\") as my_file:\n",
    "            my_file.write(resp.content)\n",
    "        resp.close()\n",
    "        i = i + 1\n",
    "    print(\"Updated all data succesfully!!\")"
   ]
  },
  {
   "cell_type": "code",
   "execution_count": 5,
   "metadata": {},
   "outputs": [],
   "source": [
    "# Run this to download all the data.\n",
    "# It may take a while\n",
    "\n",
    "#update_data()"
   ]
  },
  {
   "cell_type": "code",
   "execution_count": null,
   "metadata": {},
   "outputs": [],
   "source": []
  },
  {
   "cell_type": "code",
   "execution_count": null,
   "metadata": {},
   "outputs": [],
   "source": []
  },
  {
   "cell_type": "code",
   "execution_count": null,
   "metadata": {},
   "outputs": [],
   "source": []
  },
  {
   "cell_type": "code",
   "execution_count": null,
   "metadata": {},
   "outputs": [],
   "source": []
  },
  {
   "cell_type": "markdown",
   "metadata": {
    "collapsed": true
   },
   "source": [
    "### Last Week"
   ]
  },
  {
   "cell_type": "code",
   "execution_count": 6,
   "metadata": {
    "scrolled": true
   },
   "outputs": [],
   "source": [
    "# Get index of the most recent Monday\n",
    "k = len(lista_fechas)-1\n",
    "while(k > 0):\n",
    "    random_day = k\n",
    "    day_of_week = lista_fechas[random_day].weekday()\n",
    "\n",
    "    if (day_of_week == 0):        \n",
    "        index_last_monday = random_day\n",
    "        break\n",
    "    else:\n",
    "        index_last_monday = random_day - day_of_week    \n",
    "    k = k - 1"
   ]
  },
  {
   "cell_type": "code",
   "execution_count": 7,
   "metadata": {},
   "outputs": [
    {
     "data": {
      "text/plain": [
       "281"
      ]
     },
     "execution_count": 7,
     "metadata": {},
     "output_type": "execute_result"
    }
   ],
   "source": [
    "# index in our list of dates of the most recent Monday\n",
    "index_last_monday"
   ]
  },
  {
   "cell_type": "code",
   "execution_count": 8,
   "metadata": {},
   "outputs": [
    {
     "data": {
      "text/plain": [
       "datetime.date(2021, 5, 31)"
      ]
     },
     "execution_count": 8,
     "metadata": {},
     "output_type": "execute_result"
    }
   ],
   "source": [
    "# comprobar si el indice obtenido es el correcto\n",
    "lista_fechas[101]"
   ]
  },
  {
   "cell_type": "code",
   "execution_count": 9,
   "metadata": {
    "scrolled": true
   },
   "outputs": [
    {
     "data": {
      "text/plain": [
       "[datetime.date(2022, 2, 4), datetime.date(2022, 2, 7)]"
      ]
     },
     "execution_count": 9,
     "metadata": {},
     "output_type": "execute_result"
    }
   ],
   "source": [
    "# lista de fechas de esta última semana\n",
    "last_week = lista_fechas[index_last_monday-1:]\n",
    "last_week"
   ]
  },
  {
   "cell_type": "code",
   "execution_count": 10,
   "metadata": {},
   "outputs": [],
   "source": [
    "# we create empty lists for the information we will obtain\n",
    "week_dosis_admin = []\n",
    "week_people_one_dose = []\n",
    "week_people_completed_dose = []"
   ]
  },
  {
   "cell_type": "code",
   "execution_count": 11,
   "metadata": {},
   "outputs": [],
   "source": [
    "# open each file and get info\n",
    "# filename error ??\n",
    "dia = 0\n",
    "while (dia < len(last_week)):\n",
    "    \n",
    "    fecha = str(last_week[dia]).replace(\"-\", \"\")\n",
    "    filename = str(fecha) + '.ods'\n",
    "    doc = ezodf.opendoc(filename)\n",
    "    \n",
    "\n",
    "    # convert the first sheet to a pandas.DataFrame\n",
    "    sheet = doc.sheets[0]\n",
    "    df_dict = {}\n",
    "    for i, row in enumerate(sheet.rows()):\n",
    "        # row is a list of cells\n",
    "        # assume the header is on the first row\n",
    "        if i == 0:\n",
    "            # columns as lists in a dictionary\n",
    "            df_dict = {cell.value:[] for cell in row}\n",
    "            # create index for the column headers\n",
    "            col_index = {j:cell.value for j, cell in enumerate(row)}\n",
    "            continue\n",
    "        for j, cell in enumerate(row):\n",
    "            # use header instead of column index\n",
    "            df_dict[col_index[j]].append(cell.value)\n",
    "            \n",
    "    \n",
    "    jeje = df_dict.get('Dosis administradas (2)')\n",
    "    res = list(filter(None, jeje))\n",
    "        \n",
    "    dosis_admin = res[-1]\n",
    "    week_dosis_admin.append(dosis_admin)\n",
    "    \n",
    "    jiji = df_dict.get('Nº Personas con al menos 1 dosis')\n",
    "    res2 = list(filter(None, jiji))\n",
    "    persons1dosis = res2[-1]\n",
    "    week_people_one_dose.append(persons1dosis)\n",
    "    \n",
    "    jojo = df_dict.get('Nº Personas vacunadas\\n(pauta completada)')\n",
    "    res3 = list(filter(None, jojo))\n",
    "    personscompleta = res3[-1]\n",
    "    week_people_completed_dose.append(personscompleta)\n",
    "    \n",
    "    hundredpercent = 47450795\n",
    "    \n",
    "    porcentaje_personscompleta = (personscompleta * 100) / hundredpercent\n",
    "    porcentaje_personscompleta\n",
    "    \n",
    "    porcentaje_persons1dosis = (persons1dosis * 100) / hundredpercent\n",
    "    porcentaje_persons1dosis\n",
    "    \n",
    "    dia = dia + 1"
   ]
  },
  {
   "cell_type": "code",
   "execution_count": 12,
   "metadata": {},
   "outputs": [
    {
     "data": {
      "text/plain": [
       "[38316906.0, 38327784.0]"
      ]
     },
     "execution_count": 12,
     "metadata": {},
     "output_type": "execute_result"
    }
   ],
   "source": [
    "# check info obtained\n",
    "week_dosis_admin\n",
    "week_people_one_dose\n",
    "week_people_completed_dose"
   ]
  },
  {
   "cell_type": "code",
   "execution_count": null,
   "metadata": {},
   "outputs": [],
   "source": []
  },
  {
   "cell_type": "code",
   "execution_count": null,
   "metadata": {},
   "outputs": [],
   "source": []
  },
  {
   "cell_type": "code",
   "execution_count": null,
   "metadata": {},
   "outputs": [],
   "source": []
  },
  {
   "cell_type": "code",
   "execution_count": null,
   "metadata": {},
   "outputs": [],
   "source": []
  },
  {
   "cell_type": "code",
   "execution_count": null,
   "metadata": {},
   "outputs": [],
   "source": []
  },
  {
   "cell_type": "code",
   "execution_count": null,
   "metadata": {},
   "outputs": [],
   "source": []
  },
  {
   "cell_type": "markdown",
   "metadata": {},
   "source": [
    "### Report from last Week"
   ]
  },
  {
   "cell_type": "code",
   "execution_count": 13,
   "metadata": {},
   "outputs": [
    {
     "name": "stdout",
     "output_type": "stream",
     "text": [
      "*Informe Semanal COVID*\n",
      "\u001b[4mDosis administradas esta semana:\u001b[0m\n",
      "Monday   \t=\t228,002\n",
      "\n",
      "Esta semana un total de \t228,002 dosis\n",
      "\n",
      "% población con al menos una dosis: \t86.32%\n",
      "% población pauta completa: \t\t80.77%\n"
     ]
    }
   ],
   "source": [
    "tam = len(week_dosis_admin)\n",
    "index = 0\n",
    "weekDays = (\"Monday\",\"Tuesday\",\"Wednesday\",\"Thursday\",\"Friday\",\"Saturday\",\"Sunday\")\n",
    "dosis_semana = 0\n",
    "week_daily_incr = []\n",
    "\n",
    "print('*Informe Semanal COVID*')\n",
    "print('\\033[4m' + 'Dosis administradas esta semana:' + '\\033[0m')\n",
    "\n",
    "while(index < tam-1):\n",
    "    daily_incr = week_dosis_admin[index+1] - week_dosis_admin[index]\n",
    "    week_daily_incr.append(daily_incr)\n",
    "    res = '{:,.0f}'.format(daily_incr)\n",
    "    dosis_semana = dosis_semana + daily_incr\n",
    "    \n",
    "    print(weekDays[index] + '   \\t=\\t' + res) #only with df of a week\n",
    "    index = index + 1\n",
    "\n",
    "\n",
    "\n",
    "personas_incompleta = porcentaje_persons1dosis\n",
    "personas_completa = porcentaje_personscompleta\n",
    "\n",
    "print('\\nEsta semana un total de \\t' + '{:,.0f}'.format(dosis_semana) + ' dosis')\n",
    "print('\\n% población con al menos una dosis: \\t' + '{:.2f}'.format(personas_incompleta) + '%')\n",
    "print('% población pauta completa: \\t\\t' + '{:.2f}'.format(personas_completa) + '%')"
   ]
  },
  {
   "cell_type": "markdown",
   "metadata": {},
   "source": [
    "### Progress Bar"
   ]
  },
  {
   "cell_type": "code",
   "execution_count": 14,
   "metadata": {},
   "outputs": [
    {
     "name": "stdout",
     "output_type": "stream",
     "text": [
      "[■■■■■■■■□□] 80.77% complete\n"
     ]
    }
   ],
   "source": [
    "progressbar = '['\n",
    "indice = 0\n",
    "mini_pcomp = personas_completa/10\n",
    "mini_pcomp = round(mini_pcomp)\n",
    "while(indice < 10):\n",
    "    if(mini_pcomp <= indice):\n",
    "        progressbar = progressbar + '□'\n",
    "    else:\n",
    "        progressbar = progressbar + '■'\n",
    "    indice = indice + 1\n",
    "progressbar = progressbar + '] ' + '{:.2f}'.format(personas_completa) + '% complete'\n",
    "print(progressbar)"
   ]
  },
  {
   "cell_type": "code",
   "execution_count": null,
   "metadata": {},
   "outputs": [],
   "source": []
  },
  {
   "cell_type": "code",
   "execution_count": null,
   "metadata": {},
   "outputs": [],
   "source": []
  },
  {
   "cell_type": "code",
   "execution_count": null,
   "metadata": {},
   "outputs": [],
   "source": []
  },
  {
   "cell_type": "code",
   "execution_count": null,
   "metadata": {
    "scrolled": false
   },
   "outputs": [],
   "source": []
  },
  {
   "cell_type": "code",
   "execution_count": null,
   "metadata": {},
   "outputs": [],
   "source": []
  }
 ],
 "metadata": {
  "kernelspec": {
   "display_name": "Python 3",
   "language": "python",
   "name": "python3"
  },
  "language_info": {
   "codemirror_mode": {
    "name": "ipython",
    "version": 3
   },
   "file_extension": ".py",
   "mimetype": "text/x-python",
   "name": "python",
   "nbconvert_exporter": "python",
   "pygments_lexer": "ipython3",
   "version": "3.7.1"
  }
 },
 "nbformat": 4,
 "nbformat_minor": 2
}
